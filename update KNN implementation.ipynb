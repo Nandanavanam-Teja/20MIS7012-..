"metadata": {},
   "outputs": [],
   "source": [
    "with open('datasets/haberman.data', 'r') as f:\n",
    "with open('datasets/csv.data', 'r') as f:\n",
    "    for line in f.readlines():\n",
    "        attributes = line.replace('\\n', '').split(',')\n",
    "        # converting items from the list of attributes (string to integer)\n",

